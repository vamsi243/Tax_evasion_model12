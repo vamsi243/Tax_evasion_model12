{
 "cells": [
  {
   "cell_type": "code",
   "execution_count": 1,
   "id": "45616c02",
   "metadata": {},
   "outputs": [],
   "source": [
    "\n",
    "import pandas as pd\n",
    "import numpy as np\n",
    "import warnings\n",
    "warnings.filterwarnings(\"ignore\")\n",
    "import seaborn as sns\n",
    "import matplotlib.pyplot as plt\n",
    "from matplotlib import pyplot\n",
    "\n",
    "\n",
    "from sklearn.model_selection import train_test_split # for splitting the data\n",
    "from sklearn.ensemble import RandomForestRegressor # for building the model\n",
    "from sklearn.metrics import r2_score\n",
    "from sklearn.linear_model import LinearRegression,Lasso,Ridge\n",
    "from sklearn.ensemble import RandomForestRegressor\n",
    "from sklearn.metrics import mean_squared_error\n",
    "\n",
    "\n",
    "#Neural_Networks\n",
    "from sklearn.preprocessing import StandardScaler\n",
    "from tensorflow.keras.optimizers import Adam\n",
    "\n",
    "from keras.models import Sequential\n",
    "from keras.layers import Dense, Dropout\n",
    "from sklearn.metrics import accuracy_score, roc_auc_score\n",
    "from tensorflow.keras.optimizers import SGD\n",
    "from tensorflow.keras.utils import to_categorical\n"
   ]
  },
  {
   "cell_type": "code",
   "execution_count": 2,
   "id": "49a9a9e5",
   "metadata": {},
   "outputs": [
    {
     "data": {
      "text/html": [
       "<div>\n",
       "<style scoped>\n",
       "    .dataframe tbody tr th:only-of-type {\n",
       "        vertical-align: middle;\n",
       "    }\n",
       "\n",
       "    .dataframe tbody tr th {\n",
       "        vertical-align: top;\n",
       "    }\n",
       "\n",
       "    .dataframe thead th {\n",
       "        text-align: right;\n",
       "    }\n",
       "</style>\n",
       "<table border=\"1\" class=\"dataframe\">\n",
       "  <thead>\n",
       "    <tr style=\"text-align: right;\">\n",
       "      <th></th>\n",
       "      <th>comp_id</th>\n",
       "      <th>year</th>\n",
       "      <th>Loss B/W from Previous Period</th>\n",
       "      <th>previous_year_Revenue</th>\n",
       "      <th>client entertainment_50</th>\n",
       "      <th>Fines and penalties</th>\n",
       "      <th>Amounts withdrawn from the Business by a natural person who is a Taxable Person</th>\n",
       "      <th>client entertainment</th>\n",
       "      <th>Staff Costs</th>\n",
       "      <th>IT Cost</th>\n",
       "      <th>Net Interest expenditure</th>\n",
       "      <th>Donations, grants, or gifts</th>\n",
       "      <th>Bribes or other illicit payments</th>\n",
       "      <th>Related Party transaction - Non Deductiable Payment</th>\n",
       "      <th>Revenue</th>\n",
       "      <th>Operating Expenses</th>\n",
       "      <th>Finance and other income</th>\n",
       "      <th>Finance and other cost</th>\n",
       "      <th>tax evasion</th>\n",
       "    </tr>\n",
       "  </thead>\n",
       "  <tbody>\n",
       "    <tr>\n",
       "      <th>0</th>\n",
       "      <td>202</td>\n",
       "      <td>2017</td>\n",
       "      <td>0</td>\n",
       "      <td>210244</td>\n",
       "      <td>0</td>\n",
       "      <td>13790</td>\n",
       "      <td>1153</td>\n",
       "      <td>78878</td>\n",
       "      <td>39367</td>\n",
       "      <td>6891</td>\n",
       "      <td>4600</td>\n",
       "      <td>242700</td>\n",
       "      <td>917996</td>\n",
       "      <td>67391</td>\n",
       "      <td>9549901</td>\n",
       "      <td>59722</td>\n",
       "      <td>115527</td>\n",
       "      <td>80558</td>\n",
       "      <td>0</td>\n",
       "    </tr>\n",
       "    <tr>\n",
       "      <th>1</th>\n",
       "      <td>535</td>\n",
       "      <td>1987</td>\n",
       "      <td>0</td>\n",
       "      <td>807348</td>\n",
       "      <td>0</td>\n",
       "      <td>5033</td>\n",
       "      <td>8617</td>\n",
       "      <td>51846</td>\n",
       "      <td>18106</td>\n",
       "      <td>2080</td>\n",
       "      <td>1855</td>\n",
       "      <td>24045</td>\n",
       "      <td>748778</td>\n",
       "      <td>13794</td>\n",
       "      <td>5596955</td>\n",
       "      <td>94499</td>\n",
       "      <td>137385</td>\n",
       "      <td>82422</td>\n",
       "      <td>0</td>\n",
       "    </tr>\n",
       "  </tbody>\n",
       "</table>\n",
       "</div>"
      ],
      "text/plain": [
       "   comp_id  year  Loss B/W from Previous Period  previous_year_Revenue  \\\n",
       "0      202  2017                              0                 210244   \n",
       "1      535  1987                              0                 807348   \n",
       "\n",
       "   client entertainment_50  Fines and penalties  \\\n",
       "0                        0                13790   \n",
       "1                        0                 5033   \n",
       "\n",
       "   Amounts withdrawn from the Business by a natural person who is a Taxable Person  \\\n",
       "0                                               1153                                 \n",
       "1                                               8617                                 \n",
       "\n",
       "   client entertainment  Staff Costs  IT Cost  Net Interest expenditure  \\\n",
       "0                 78878        39367     6891                      4600   \n",
       "1                 51846        18106     2080                      1855   \n",
       "\n",
       "   Donations, grants, or gifts  Bribes or other illicit payments  \\\n",
       "0                       242700                            917996   \n",
       "1                        24045                            748778   \n",
       "\n",
       "   Related Party transaction - Non Deductiable Payment  Revenue  \\\n",
       "0                                              67391    9549901   \n",
       "1                                              13794    5596955   \n",
       "\n",
       "   Operating Expenses  Finance and other income  Finance and other cost  \\\n",
       "0               59722                    115527                   80558   \n",
       "1               94499                    137385                   82422   \n",
       "\n",
       "   tax evasion  \n",
       "0            0  \n",
       "1            0  "
      ]
     },
     "execution_count": 2,
     "metadata": {},
     "output_type": "execute_result"
    }
   ],
   "source": [
    "\n",
    "import pandas as pd\n",
    "import numpy as np\n",
    "\n",
    "np.random.seed(42)\n",
    "size1=400\n",
    "# Generate synthetic data for 5 rows\n",
    "data = {\n",
    "    'comp_id': np.random.randint(100, 999, size=size1),\n",
    "    'year': np.random.randint(1980, 2024, size=size1),\n",
    "    'Loss B/W from Previous Period': np.random.randint(0, 1, size=size1),\n",
    "    'previous_year_Revenue': np.random.randint(10000, 1000000, size=size1),\n",
    "    'client entertainment_50': np.random.randint(0, 1, size=size1),    \n",
    "    'Fines and penalties': np.random.randint(1000, 15000, size=size1),\n",
    "    'Amounts withdrawn from the Business by a natural person who is a Taxable Person': np.random.randint(1000, 15000, size=size1),\n",
    "    'client entertainment': np.random.randint(10000, 80000, size=size1),\n",
    "    'Staff Costs': np.random.randint(8000, 50000, size=size1),\n",
    "    'IT Cost': np.random.randint(1000, 10000, size=size1), \n",
    "    'Net Interest expenditure': np.random.randint(1000, 5000, size=size1),\n",
    "    'Donations, grants, or gifts': np.random.randint(0, 400000, size=size1), \n",
    "    'Bribes or other illicit payments': np.random.randint(0, 1000000, size=size1),  # Binary: 0 or 1\n",
    "    'Related Party transaction - Non Deductiable Payment': np.random.randint(0, 100000, size=size1),\n",
    "    'Revenue': np.random.randint(999, 9999999, size=size1),\n",
    "    'Operating Expenses': np.random.randint(5000, 200000, size=size1),\n",
    "    'Finance and other income': np.random.randint(1000, 200000, size=size1),\n",
    "    'Finance and other cost': np.random.randint(1000, 150000, size=size1),\n",
    "    'tax evasion': np.random.randint(0, 1, size=size1),    \n",
    "\n",
    "    }\n",
    "\n",
    "synthetic_df1 = pd.DataFrame(data)\n",
    "\n",
    "# Print the synthetic data\n",
    "synthetic_df1.head(2)"
   ]
  },
  {
   "cell_type": "code",
   "execution_count": 3,
   "id": "4b7b1d57",
   "metadata": {},
   "outputs": [
    {
     "data": {
      "text/html": [
       "<div>\n",
       "<style scoped>\n",
       "    .dataframe tbody tr th:only-of-type {\n",
       "        vertical-align: middle;\n",
       "    }\n",
       "\n",
       "    .dataframe tbody tr th {\n",
       "        vertical-align: top;\n",
       "    }\n",
       "\n",
       "    .dataframe thead th {\n",
       "        text-align: right;\n",
       "    }\n",
       "</style>\n",
       "<table border=\"1\" class=\"dataframe\">\n",
       "  <thead>\n",
       "    <tr style=\"text-align: right;\">\n",
       "      <th></th>\n",
       "      <th>comp_id</th>\n",
       "      <th>year</th>\n",
       "      <th>Loss B/W from Previous Period</th>\n",
       "      <th>previous_year_Revenue</th>\n",
       "      <th>client entertainment_50</th>\n",
       "      <th>Fines and penalties</th>\n",
       "      <th>Amounts withdrawn from the Business by a natural person who is a Taxable Person</th>\n",
       "      <th>client entertainment</th>\n",
       "      <th>Staff Costs</th>\n",
       "      <th>IT Cost</th>\n",
       "      <th>Net Interest expenditure</th>\n",
       "      <th>Donations, grants, or gifts</th>\n",
       "      <th>Bribes or other illicit payments</th>\n",
       "      <th>Related Party transaction - Non Deductiable Payment</th>\n",
       "      <th>Revenue</th>\n",
       "      <th>Operating Expenses</th>\n",
       "      <th>Finance and other income</th>\n",
       "      <th>Finance and other cost</th>\n",
       "      <th>tax evasion</th>\n",
       "    </tr>\n",
       "  </thead>\n",
       "  <tbody>\n",
       "    <tr>\n",
       "      <th>0</th>\n",
       "      <td>202</td>\n",
       "      <td>2001</td>\n",
       "      <td>1</td>\n",
       "      <td>168823</td>\n",
       "      <td>1</td>\n",
       "      <td>3082</td>\n",
       "      <td>4584</td>\n",
       "      <td>51240</td>\n",
       "      <td>34215</td>\n",
       "      <td>5225</td>\n",
       "      <td>1972</td>\n",
       "      <td>85530</td>\n",
       "      <td>929065</td>\n",
       "      <td>36321</td>\n",
       "      <td>6521644</td>\n",
       "      <td>23191</td>\n",
       "      <td>104892</td>\n",
       "      <td>51669</td>\n",
       "      <td>1</td>\n",
       "    </tr>\n",
       "    <tr>\n",
       "      <th>1</th>\n",
       "      <td>535</td>\n",
       "      <td>2007</td>\n",
       "      <td>1</td>\n",
       "      <td>640152</td>\n",
       "      <td>1</td>\n",
       "      <td>11966</td>\n",
       "      <td>10588</td>\n",
       "      <td>43434</td>\n",
       "      <td>41595</td>\n",
       "      <td>4067</td>\n",
       "      <td>1592</td>\n",
       "      <td>230983</td>\n",
       "      <td>197133</td>\n",
       "      <td>73297</td>\n",
       "      <td>6690920</td>\n",
       "      <td>184232</td>\n",
       "      <td>3023</td>\n",
       "      <td>70184</td>\n",
       "      <td>1</td>\n",
       "    </tr>\n",
       "  </tbody>\n",
       "</table>\n",
       "</div>"
      ],
      "text/plain": [
       "   comp_id  year  Loss B/W from Previous Period  previous_year_Revenue  \\\n",
       "0      202  2001                              1                 168823   \n",
       "1      535  2007                              1                 640152   \n",
       "\n",
       "   client entertainment_50  Fines and penalties  \\\n",
       "0                        1                 3082   \n",
       "1                        1                11966   \n",
       "\n",
       "   Amounts withdrawn from the Business by a natural person who is a Taxable Person  \\\n",
       "0                                               4584                                 \n",
       "1                                              10588                                 \n",
       "\n",
       "   client entertainment  Staff Costs  IT Cost  Net Interest expenditure  \\\n",
       "0                 51240        34215     5225                      1972   \n",
       "1                 43434        41595     4067                      1592   \n",
       "\n",
       "   Donations, grants, or gifts  Bribes or other illicit payments  \\\n",
       "0                        85530                            929065   \n",
       "1                       230983                            197133   \n",
       "\n",
       "   Related Party transaction - Non Deductiable Payment  Revenue  \\\n",
       "0                                              36321    6521644   \n",
       "1                                              73297    6690920   \n",
       "\n",
       "   Operating Expenses  Finance and other income  Finance and other cost  \\\n",
       "0               23191                    104892                   51669   \n",
       "1              184232                      3023                   70184   \n",
       "\n",
       "   tax evasion  \n",
       "0            1  \n",
       "1            1  "
      ]
     },
     "execution_count": 3,
     "metadata": {},
     "output_type": "execute_result"
    }
   ],
   "source": [
    "\n",
    "import pandas as pd\n",
    "import numpy as np\n",
    "\n",
    "np.random.seed(42)\n",
    "size1=200\n",
    "# Generate synthetic data for 5 rows\n",
    "data = {\n",
    "    'comp_id': np.random.randint(100, 999, size=size1),\n",
    "    'year': np.random.randint(1980, 2024, size=size1),\n",
    "    'Loss B/W from Previous Period': np.random.randint(1, 2, size=size1),\n",
    "    'previous_year_Revenue': np.random.randint(10000, 1000000, size=size1),\n",
    "    'client entertainment_50': np.random.randint(1, 2, size=size1),    \n",
    "    'Fines and penalties': np.random.randint(1000, 15000, size=size1),\n",
    "    'Amounts withdrawn from the Business by a natural person who is a Taxable Person': np.random.randint(1000, 15000, size=size1),\n",
    "    'client entertainment': np.random.randint(10000, 80000, size=size1),\n",
    "    'Staff Costs': np.random.randint(8000, 50000, size=size1),\n",
    "    'IT Cost': np.random.randint(1000, 10000, size=size1), \n",
    "    'Net Interest expenditure': np.random.randint(1000, 5000, size=size1),\n",
    "    'Donations, grants, or gifts': np.random.randint(0, 400000, size=size1), \n",
    "    'Bribes or other illicit payments': np.random.randint(0, 1000000, size=size1),  # Binary: 0 or 1\n",
    "    'Related Party transaction - Non Deductiable Payment': np.random.randint(0, 100000, size=size1),\n",
    "    'Revenue': np.random.randint(999, 9999999,  size=size1),\n",
    "    'Operating Expenses': np.random.randint(20000, 200000, size=size1),\n",
    "    'Finance and other income': np.random.randint(1000, 200000, size=size1),\n",
    "    'Finance and other cost': np.random.randint(1000, 150000, size=size1),\n",
    "    'tax evasion': np.random.randint(1, 2, size=size1),    \n",
    "\n",
    "    }\n",
    "\n",
    "synthetic_df2 = pd.DataFrame(data)\n",
    "\n",
    "# Print the synthetic data\n",
    "synthetic_df2.head(2)"
   ]
  },
  {
   "cell_type": "code",
   "execution_count": 4,
   "id": "848ee195",
   "metadata": {},
   "outputs": [
    {
     "data": {
      "text/html": [
       "<div>\n",
       "<style scoped>\n",
       "    .dataframe tbody tr th:only-of-type {\n",
       "        vertical-align: middle;\n",
       "    }\n",
       "\n",
       "    .dataframe tbody tr th {\n",
       "        vertical-align: top;\n",
       "    }\n",
       "\n",
       "    .dataframe thead th {\n",
       "        text-align: right;\n",
       "    }\n",
       "</style>\n",
       "<table border=\"1\" class=\"dataframe\">\n",
       "  <thead>\n",
       "    <tr style=\"text-align: right;\">\n",
       "      <th></th>\n",
       "      <th>comp_id</th>\n",
       "      <th>year</th>\n",
       "      <th>Loss B/W from Previous Period</th>\n",
       "      <th>previous_year_Revenue</th>\n",
       "      <th>client entertainment_50</th>\n",
       "      <th>Fines and penalties</th>\n",
       "      <th>Amounts withdrawn from the Business by a natural person who is a Taxable Person</th>\n",
       "      <th>client entertainment</th>\n",
       "      <th>Staff Costs</th>\n",
       "      <th>IT Cost</th>\n",
       "      <th>Net Interest expenditure</th>\n",
       "      <th>Donations, grants, or gifts</th>\n",
       "      <th>Bribes or other illicit payments</th>\n",
       "      <th>Related Party transaction - Non Deductiable Payment</th>\n",
       "      <th>Revenue</th>\n",
       "      <th>Operating Expenses</th>\n",
       "      <th>Finance and other income</th>\n",
       "      <th>Finance and other cost</th>\n",
       "      <th>tax evasion</th>\n",
       "    </tr>\n",
       "  </thead>\n",
       "  <tbody>\n",
       "    <tr>\n",
       "      <th>0</th>\n",
       "      <td>202</td>\n",
       "      <td>2001</td>\n",
       "      <td>1</td>\n",
       "      <td>501072</td>\n",
       "      <td>0</td>\n",
       "      <td>11209</td>\n",
       "      <td>13362</td>\n",
       "      <td>37306</td>\n",
       "      <td>48385</td>\n",
       "      <td>4020</td>\n",
       "      <td>1873</td>\n",
       "      <td>159476</td>\n",
       "      <td>561672</td>\n",
       "      <td>90517</td>\n",
       "      <td>2802741</td>\n",
       "      <td>130046</td>\n",
       "      <td>138924</td>\n",
       "      <td>44472</td>\n",
       "      <td>1</td>\n",
       "    </tr>\n",
       "    <tr>\n",
       "      <th>1</th>\n",
       "      <td>535</td>\n",
       "      <td>2007</td>\n",
       "      <td>0</td>\n",
       "      <td>48304</td>\n",
       "      <td>1</td>\n",
       "      <td>2331</td>\n",
       "      <td>9195</td>\n",
       "      <td>49915</td>\n",
       "      <td>9524</td>\n",
       "      <td>9987</td>\n",
       "      <td>1013</td>\n",
       "      <td>234554</td>\n",
       "      <td>521998</td>\n",
       "      <td>65450</td>\n",
       "      <td>1056674</td>\n",
       "      <td>163326</td>\n",
       "      <td>134623</td>\n",
       "      <td>50437</td>\n",
       "      <td>1</td>\n",
       "    </tr>\n",
       "  </tbody>\n",
       "</table>\n",
       "</div>"
      ],
      "text/plain": [
       "   comp_id  year  Loss B/W from Previous Period  previous_year_Revenue  \\\n",
       "0      202  2001                              1                 501072   \n",
       "1      535  2007                              0                  48304   \n",
       "\n",
       "   client entertainment_50  Fines and penalties  \\\n",
       "0                        0                11209   \n",
       "1                        1                 2331   \n",
       "\n",
       "   Amounts withdrawn from the Business by a natural person who is a Taxable Person  \\\n",
       "0                                              13362                                 \n",
       "1                                               9195                                 \n",
       "\n",
       "   client entertainment  Staff Costs  IT Cost  Net Interest expenditure  \\\n",
       "0                 37306        48385     4020                      1873   \n",
       "1                 49915         9524     9987                      1013   \n",
       "\n",
       "   Donations, grants, or gifts  Bribes or other illicit payments  \\\n",
       "0                       159476                            561672   \n",
       "1                       234554                            521998   \n",
       "\n",
       "   Related Party transaction - Non Deductiable Payment  Revenue  \\\n",
       "0                                              90517    2802741   \n",
       "1                                              65450    1056674   \n",
       "\n",
       "   Operating Expenses  Finance and other income  Finance and other cost  \\\n",
       "0              130046                    138924                   44472   \n",
       "1              163326                    134623                   50437   \n",
       "\n",
       "   tax evasion  \n",
       "0            1  \n",
       "1            1  "
      ]
     },
     "execution_count": 4,
     "metadata": {},
     "output_type": "execute_result"
    }
   ],
   "source": [
    "\n",
    "import pandas as pd\n",
    "import numpy as np\n",
    "\n",
    "np.random.seed(42)\n",
    "size1=200\n",
    "# Generate synthetic data for 5 rows\n",
    "data = {\n",
    "    'comp_id': np.random.randint(100, 999, size=size1),\n",
    "    'year': np.random.randint(1980, 2024, size=size1),\n",
    "    'Loss B/W from Previous Period': np.random.randint(0, 2, size=size1),\n",
    "    'previous_year_Revenue': np.random.randint(10000, 1000000, size=size1),\n",
    "    'client entertainment_50': np.random.randint(0, 2, size=size1),    \n",
    "    'Fines and penalties': np.random.randint(1000, 15000, size=size1),\n",
    "    'Amounts withdrawn from the Business by a natural person who is a Taxable Person': np.random.randint(1000, 15000, size=size1),\n",
    "    'client entertainment': np.random.randint(10000, 80000, size=size1),\n",
    "    'Staff Costs': np.random.randint(8000, 50000, size=size1),\n",
    "    'IT Cost': np.random.randint(1000, 10000, size=size1), \n",
    "    'Net Interest expenditure': np.random.randint(1000, 5000, size=size1),\n",
    "    'Donations, grants, or gifts': np.random.randint(0, 400000, size=size1), \n",
    "    'Bribes or other illicit payments': np.random.randint(0, 1000000, size=size1),  # Binary: 0 or 1\n",
    "    'Related Party transaction - Non Deductiable Payment': np.random.randint(0, 100000, size=size1),\n",
    "    'Revenue': np.random.randint(999, 9999999, size=size1),\n",
    "    'Operating Expenses': np.random.randint(2000, 200000, size=size1),\n",
    "    'Finance and other income': np.random.randint(1000, 200000, size=size1),\n",
    "    'Finance and other cost': np.random.randint(1000, 150000, size=size1),\n",
    "    'tax evasion': np.random.randint(0, 2, size=size1),    \n",
    "\n",
    "    }\n",
    "\n",
    "synthetic_df3 = pd.DataFrame(data)\n",
    "\n",
    "# Print the synthetic data\n",
    "synthetic_df3.head(2)"
   ]
  },
  {
   "cell_type": "code",
   "execution_count": 5,
   "id": "e179f77f",
   "metadata": {},
   "outputs": [],
   "source": [
    "#cities=Doha, Al Rayyan, Umm Salal, Al Khor & Al Thakira, Al Wakrah, Al Daayen, Al Shamal, and Al Shahaniya,"
   ]
  },
  {
   "cell_type": "code",
   "execution_count": 6,
   "id": "7dda5b6f",
   "metadata": {},
   "outputs": [],
   "source": [
    "df=pd.concat([synthetic_df1, synthetic_df2,synthetic_df3])"
   ]
  },
  {
   "cell_type": "code",
   "execution_count": 7,
   "id": "40a7134c",
   "metadata": {},
   "outputs": [
    {
     "data": {
      "text/html": [
       "<div>\n",
       "<style scoped>\n",
       "    .dataframe tbody tr th:only-of-type {\n",
       "        vertical-align: middle;\n",
       "    }\n",
       "\n",
       "    .dataframe tbody tr th {\n",
       "        vertical-align: top;\n",
       "    }\n",
       "\n",
       "    .dataframe thead th {\n",
       "        text-align: right;\n",
       "    }\n",
       "</style>\n",
       "<table border=\"1\" class=\"dataframe\">\n",
       "  <thead>\n",
       "    <tr style=\"text-align: right;\">\n",
       "      <th></th>\n",
       "      <th>comp_id</th>\n",
       "      <th>year</th>\n",
       "      <th>Loss B/W from Previous Period</th>\n",
       "      <th>previous_year_Revenue</th>\n",
       "      <th>client entertainment_50</th>\n",
       "      <th>Fines and penalties</th>\n",
       "      <th>Amounts withdrawn from the Business by a natural person who is a Taxable Person</th>\n",
       "      <th>client entertainment</th>\n",
       "      <th>Staff Costs</th>\n",
       "      <th>IT Cost</th>\n",
       "      <th>Net Interest expenditure</th>\n",
       "      <th>Donations, grants, or gifts</th>\n",
       "      <th>Bribes or other illicit payments</th>\n",
       "      <th>Related Party transaction - Non Deductiable Payment</th>\n",
       "      <th>Revenue</th>\n",
       "      <th>Operating Expenses</th>\n",
       "      <th>Finance and other income</th>\n",
       "      <th>Finance and other cost</th>\n",
       "      <th>tax evasion</th>\n",
       "    </tr>\n",
       "  </thead>\n",
       "  <tbody>\n",
       "    <tr>\n",
       "      <th>0</th>\n",
       "      <td>202</td>\n",
       "      <td>2017</td>\n",
       "      <td>0</td>\n",
       "      <td>210244</td>\n",
       "      <td>0</td>\n",
       "      <td>13790</td>\n",
       "      <td>1153</td>\n",
       "      <td>78878</td>\n",
       "      <td>39367</td>\n",
       "      <td>6891</td>\n",
       "      <td>4600</td>\n",
       "      <td>242700</td>\n",
       "      <td>917996</td>\n",
       "      <td>67391</td>\n",
       "      <td>9549901</td>\n",
       "      <td>59722</td>\n",
       "      <td>115527</td>\n",
       "      <td>80558</td>\n",
       "      <td>0</td>\n",
       "    </tr>\n",
       "    <tr>\n",
       "      <th>1</th>\n",
       "      <td>535</td>\n",
       "      <td>1987</td>\n",
       "      <td>0</td>\n",
       "      <td>807348</td>\n",
       "      <td>0</td>\n",
       "      <td>5033</td>\n",
       "      <td>8617</td>\n",
       "      <td>51846</td>\n",
       "      <td>18106</td>\n",
       "      <td>2080</td>\n",
       "      <td>1855</td>\n",
       "      <td>24045</td>\n",
       "      <td>748778</td>\n",
       "      <td>13794</td>\n",
       "      <td>5596955</td>\n",
       "      <td>94499</td>\n",
       "      <td>137385</td>\n",
       "      <td>82422</td>\n",
       "      <td>0</td>\n",
       "    </tr>\n",
       "  </tbody>\n",
       "</table>\n",
       "</div>"
      ],
      "text/plain": [
       "   comp_id  year  Loss B/W from Previous Period  previous_year_Revenue  \\\n",
       "0      202  2017                              0                 210244   \n",
       "1      535  1987                              0                 807348   \n",
       "\n",
       "   client entertainment_50  Fines and penalties  \\\n",
       "0                        0                13790   \n",
       "1                        0                 5033   \n",
       "\n",
       "   Amounts withdrawn from the Business by a natural person who is a Taxable Person  \\\n",
       "0                                               1153                                 \n",
       "1                                               8617                                 \n",
       "\n",
       "   client entertainment  Staff Costs  IT Cost  Net Interest expenditure  \\\n",
       "0                 78878        39367     6891                      4600   \n",
       "1                 51846        18106     2080                      1855   \n",
       "\n",
       "   Donations, grants, or gifts  Bribes or other illicit payments  \\\n",
       "0                       242700                            917996   \n",
       "1                        24045                            748778   \n",
       "\n",
       "   Related Party transaction - Non Deductiable Payment  Revenue  \\\n",
       "0                                              67391    9549901   \n",
       "1                                              13794    5596955   \n",
       "\n",
       "   Operating Expenses  Finance and other income  Finance and other cost  \\\n",
       "0               59722                    115527                   80558   \n",
       "1               94499                    137385                   82422   \n",
       "\n",
       "   tax evasion  \n",
       "0            0  \n",
       "1            0  "
      ]
     },
     "execution_count": 7,
     "metadata": {},
     "output_type": "execute_result"
    }
   ],
   "source": [
    "df.head(2)"
   ]
  },
  {
   "cell_type": "code",
   "execution_count": 8,
   "id": "4235367f",
   "metadata": {},
   "outputs": [
    {
     "name": "stdout",
     "output_type": "stream",
     "text": [
      "<class 'pandas.core.frame.DataFrame'>\n",
      "Int64Index: 800 entries, 0 to 199\n",
      "Data columns (total 19 columns):\n",
      " #   Column                                                                           Non-Null Count  Dtype\n",
      "---  ------                                                                           --------------  -----\n",
      " 0   comp_id                                                                          800 non-null    int32\n",
      " 1   year                                                                             800 non-null    int32\n",
      " 2   Loss B/W from Previous Period                                                    800 non-null    int32\n",
      " 3   previous_year_Revenue                                                            800 non-null    int32\n",
      " 4   client entertainment_50                                                          800 non-null    int32\n",
      " 5   Fines and penalties                                                              800 non-null    int32\n",
      " 6   Amounts withdrawn from the Business by a natural person who is a Taxable Person  800 non-null    int32\n",
      " 7   client entertainment                                                             800 non-null    int32\n",
      " 8   Staff Costs                                                                      800 non-null    int32\n",
      " 9   IT Cost                                                                          800 non-null    int32\n",
      " 10  Net Interest expenditure                                                         800 non-null    int32\n",
      " 11  Donations, grants, or gifts                                                      800 non-null    int32\n",
      " 12  Bribes or other illicit payments                                                 800 non-null    int32\n",
      " 13  Related Party transaction - Non Deductiable Payment                              800 non-null    int32\n",
      " 14  Revenue                                                                          800 non-null    int32\n",
      " 15  Operating Expenses                                                               800 non-null    int32\n",
      " 16  Finance and other income                                                         800 non-null    int32\n",
      " 17  Finance and other cost                                                           800 non-null    int32\n",
      " 18  tax evasion                                                                      800 non-null    int32\n",
      "dtypes: int32(19)\n",
      "memory usage: 65.6 KB\n"
     ]
    }
   ],
   "source": [
    "#displays the information related to all the attributes.\n",
    "df.info()"
   ]
  },
  {
   "cell_type": "code",
   "execution_count": 9,
   "id": "2b5b42f6",
   "metadata": {},
   "outputs": [
    {
     "data": {
      "text/plain": [
       "Index(['comp_id', 'year', 'Loss B/W from Previous Period',\n",
       "       'previous_year_Revenue', 'client entertainment_50',\n",
       "       'Fines and penalties',\n",
       "       'Amounts withdrawn from the Business by a natural person who is a Taxable Person',\n",
       "       'client entertainment', 'Staff Costs', 'IT Cost',\n",
       "       'Net Interest expenditure', 'Donations, grants, or gifts',\n",
       "       'Bribes or other illicit payments',\n",
       "       'Related Party transaction - Non Deductiable Payment', 'Revenue',\n",
       "       'Operating Expenses', 'Finance and other income',\n",
       "       'Finance and other cost', 'tax evasion'],\n",
       "      dtype='object')"
      ]
     },
     "execution_count": 9,
     "metadata": {},
     "output_type": "execute_result"
    }
   ],
   "source": [
    "df.columns"
   ]
  },
  {
   "cell_type": "code",
   "execution_count": 10,
   "id": "6001927d",
   "metadata": {},
   "outputs": [
    {
     "data": {
      "image/png": "[encoded data removed]",
      "text/plain": [
       "<Figure size 864x432 with 4 Axes>"
      ]
     },
     "metadata": {
      "needs_background": "light"
     },
     "output_type": "display_data"
    }
   ],
   "source": [
    "# Based on distribution, we can impute appropriate value.\n",
    "fig, axes= plt.subplots(nrows=2, ncols=2,figsize=(12, 6))\n",
    "col1=['previous_year_Revenue','Revenue','Operating Expenses', 'IT Cost']\n",
    "nrows=2\n",
    "ncols=2\n",
    "k=0\n",
    "j=0\n",
    "count11=0\n",
    "while j<nrows:\n",
    "    while k<ncols:\n",
    "        i=col1[count11]\n",
    "        y=df[i]\n",
    "        axes[j][k].set_title(i)\n",
    "        axes[j][k].hist(y)\n",
    "        k+=1\n",
    "        count11+=1\n",
    "        if (count11==14):\n",
    "           break\n",
    "    if(count11==4):\n",
    "        break\n",
    "    j+=1\n",
    "    k=0\n",
    "plt.show()"
   ]
  },
  {
   "cell_type": "code",
   "execution_count": 11,
   "id": "20958a79",
   "metadata": {},
   "outputs": [
    {
     "data": {
      "text/plain": [
       "count    8.000000e+02\n",
       "mean     4.905201e+06\n",
       "std      2.870745e+06\n",
       "min      1.916000e+03\n",
       "25%      2.316051e+06\n",
       "50%      4.859118e+06\n",
       "75%      7.321819e+06\n",
       "max      9.998402e+06\n",
       "Name: Revenue, dtype: float64"
      ]
     },
     "execution_count": 11,
     "metadata": {},
     "output_type": "execute_result"
    }
   ],
   "source": [
    "df['Revenue'].describe()"
   ]
  },
  {
   "cell_type": "code",
   "execution_count": 12,
   "id": "87ffc2ee",
   "metadata": {},
   "outputs": [
    {
     "data": {
      "text/plain": [
       "count    800.000000\n",
       "mean       0.387500\n",
       "std        0.487484\n",
       "min        0.000000\n",
       "25%        0.000000\n",
       "50%        0.000000\n",
       "75%        1.000000\n",
       "max        1.000000\n",
       "Name: Loss B/W from Previous Period, dtype: float64"
      ]
     },
     "execution_count": 12,
     "metadata": {},
     "output_type": "execute_result"
    }
   ],
   "source": [
    "df['Loss B/W from Previous Period'].describe()"
   ]
  },
  {
   "cell_type": "code",
   "execution_count": 13,
   "id": "cf9ad739",
   "metadata": {},
   "outputs": [
    {
     "data": {
      "text/plain": [
       "<AxesSubplot:title={'center':'Revenue Plot'}, xlabel='Revenue', ylabel='Density'>"
      ]
     },
     "execution_count": 13,
     "metadata": {},
     "output_type": "execute_result"
    },
    {
     "data": {
      "image/png": "[encoded data removed]",
      "text/plain": [
       "<Figure size 360x360 with 1 Axes>"
      ]
     },
     "metadata": {
      "needs_background": "light"
     },
     "output_type": "display_data"
    }
   ],
   "source": [
    "#In general, we perform transformation to make this into a normal distributed form.\n",
    "plt.figure(figsize=(5,5))\n",
    "\n",
    "plt.title('Revenue Plot')\n",
    "sns.distplot(df['Revenue'])"
   ]
  },
  {
   "cell_type": "code",
   "execution_count": 14,
   "id": "1f1cf5a5",
   "metadata": {},
   "outputs": [
    {
     "data": {
      "text/plain": [
       "<Figure size 1440x432 with 0 Axes>"
      ]
     },
     "metadata": {},
     "output_type": "display_data"
    },
    {
     "data": {
      "image/png": "[encoded data removed]",
      "text/plain": [
       "<Figure size 432x288 with 1 Axes>"
      ]
     },
     "metadata": {
      "needs_background": "light"
     },
     "output_type": "display_data"
    }
   ],
   "source": [
    "\n",
    "plt.figure(figsize=(20, 6))\n",
    "df_x = pd.DataFrame(df.groupby(['Loss B/W from Previous Period'])['Revenue'].mean().sort_values(ascending = False))\n",
    "df_x.plot.bar()\n",
    "plt.title('Loss B/W from Previous Period vs avg Revenue')\n",
    "plt.show()"
   ]
  },
  {
   "cell_type": "markdown",
   "id": "e68dd3fa",
   "metadata": {},
   "source": [
    "ML-Modelling"
   ]
  },
  {
   "cell_type": "code",
   "execution_count": 15,
   "id": "150ef642",
   "metadata": {},
   "outputs": [],
   "source": [
    "df_train=df.drop('tax evasion',axis=1)\n",
    "target=df['tax evasion']"
   ]
  },
  {
   "cell_type": "code",
   "execution_count": 16,
   "id": "87e60fba",
   "metadata": {},
   "outputs": [
    {
     "name": "stdout",
     "output_type": "stream",
     "text": [
      "(800, 18)\n",
      "(800,)\n"
     ]
    }
   ],
   "source": [
    "print(df_train.shape)\n",
    "print(target.shape)"
   ]
  },
  {
   "cell_type": "code",
   "execution_count": 17,
   "id": "d9c07c9e",
   "metadata": {},
   "outputs": [
    {
     "name": "stdout",
     "output_type": "stream",
     "text": [
      "(560, 18)\n",
      "(240, 18)\n",
      "(560,)\n",
      "(240,)\n"
     ]
    }
   ],
   "source": [
    "# Modelling\n",
    "from sklearn.ensemble import RandomForestClassifier\n",
    "from sklearn.metrics import accuracy_score, confusion_matrix, precision_score, recall_score, ConfusionMatrixDisplay\n",
    "from sklearn.model_selection import RandomizedSearchCV, train_test_split\n",
    "from scipy.stats import randint\n",
    "X_train, X_test,y_train, y_test = train_test_split(df_train, target, \n",
    "                                                    test_size = 0.30, random_state=42)\n",
    "\n",
    "print(X_train.shape)\n",
    "print(X_test.shape)\n",
    "print(y_train.shape)\n",
    "print(y_test.shape)"
   ]
  },
  {
   "cell_type": "code",
   "execution_count": 18,
   "id": "9002481a",
   "metadata": {},
   "outputs": [
    {
     "data": {
      "text/plain": [
       "RandomForestClassifier()"
      ]
     },
     "execution_count": 18,
     "metadata": {},
     "output_type": "execute_result"
    }
   ],
   "source": [
    "#fitting and evaluating model\n",
    "rf = RandomForestClassifier()\n",
    "rf.fit(X_train, y_train)"
   ]
  },
  {
   "cell_type": "code",
   "execution_count": 19,
   "id": "5f873bb2",
   "metadata": {},
   "outputs": [
    {
     "data": {
      "text/plain": [
       "array([1, 1, 0, 1, 0, 1, 0, 1, 1, 1, 0, 0, 0, 0, 0, 0, 0, 0, 1, 1, 0, 1,\n",
       "       0, 0, 0, 0, 0, 1, 1, 1, 0, 0, 1, 0, 0, 0, 0, 0, 0, 1, 0, 0, 0, 0,\n",
       "       1, 1, 1, 1, 0, 1, 0, 0, 0, 0, 0, 0, 1, 0, 0, 0, 1, 0, 1, 0, 0, 1,\n",
       "       0, 1, 0, 0, 1, 0, 1, 0, 0, 0, 0, 1, 1, 1, 1, 0, 0, 0, 1, 1, 0, 0,\n",
       "       0, 0, 0, 0, 0, 0, 0, 0, 0, 0, 0, 0, 0, 1, 0, 0, 0, 0, 0, 1, 0, 0,\n",
       "       1, 1, 0, 0, 1, 0, 1, 0, 0, 0, 0, 0, 0, 1, 0, 0, 1, 0, 0, 1, 0, 0,\n",
       "       0, 1, 0, 1, 1, 0, 1, 1, 0, 1, 1, 0, 0, 1, 0, 0, 1, 1, 0, 0, 0, 0,\n",
       "       1, 1, 0, 0, 1, 1, 0, 0, 0, 0, 0, 0, 0, 0, 0, 1, 0, 1, 0, 0, 0, 0,\n",
       "       0, 0, 0, 1, 0, 1, 0, 1, 1, 0, 1, 1, 1, 1, 1, 1, 0, 1, 1, 0, 0, 0,\n",
       "       0, 1, 0, 0, 0, 1, 0, 0, 0, 0, 0, 1, 1, 0, 0, 0, 0, 0, 1, 0, 0, 0,\n",
       "       0, 0, 0, 0, 0, 1, 0, 0, 1, 0, 1, 0, 0, 0, 0, 0, 1, 0, 0, 0])"
      ]
     },
     "execution_count": 19,
     "metadata": {},
     "output_type": "execute_result"
    }
   ],
   "source": [
    "y_pred = rf.predict(X_test)\n",
    "y_pred"
   ]
  },
  {
   "cell_type": "code",
   "execution_count": 20,
   "id": "74f9724d",
   "metadata": {},
   "outputs": [
    {
     "name": "stdout",
     "output_type": "stream",
     "text": [
      "Accuracy: 0.8708333333333333\n"
     ]
    }
   ],
   "source": [
    "accuracy = accuracy_score(y_test, y_pred)\n",
    "print(\"Accuracy:\", accuracy)\n"
   ]
  },
  {
   "cell_type": "code",
   "execution_count": 21,
   "id": "c84416e8",
   "metadata": {},
   "outputs": [
    {
     "name": "stdout",
     "output_type": "stream",
     "text": [
      "[0.875, 0.875, 0.871, 0.871, 0.871, 0.867]\n"
     ]
    },
    {
     "data": {
      "image/png": "[encoded data removed]",
      "text/plain": [
       "<Figure size 432x288 with 1 Axes>"
      ]
     },
     "metadata": {
      "needs_background": "light"
     },
     "output_type": "display_data"
    }
   ],
   "source": [
    "#random forest parameter hypertuning\n",
    "estimators=[100,120,240,300,400,900]\n",
    "Accuracy_li=[]\n",
    "for i in estimators:\n",
    "        # Initializing the Random Forest Regression model with 10 decision trees\n",
    "        model = RandomForestClassifier(n_estimators = i, max_depth=6,random_state=243)\n",
    "\n",
    "        # Fitting the Random Forest Regression model to the data\n",
    "        model.fit(X_train, y_train)\n",
    "\n",
    "        # Predicting the target values of the test set\n",
    "        y_pred12 = model.predict(X_test)\n",
    "\n",
    "        # accuracy \n",
    "        acc = float(format(accuracy_score(y_test, y_pred12), '.3f'))\n",
    "\n",
    "        Accuracy_li.append(acc)\n",
    "\n",
    "\n",
    "df_12 = pd.DataFrame(Accuracy_li, index=estimators)\n",
    "lines = df_12.plot.line(title=\"Figure 2:accuracy values based on n_estimator values\")\n",
    "print(Accuracy_li)\n"
   ]
  },
  {
   "cell_type": "code",
   "execution_count": null,
   "id": "d158d134",
   "metadata": {},
   "outputs": [],
   "source": []
  },
  {
   "cell_type": "code",
   "execution_count": 37,
   "id": "d122f73d",
   "metadata": {},
   "outputs": [
    {
     "name": "stdout",
     "output_type": "stream",
     "text": [
      "Accuracy: 0.9166666666666666\n",
      "Precision: 0.9036144578313253\n",
      "Recall: 0.8620689655172413\n"
     ]
    }
   ],
   "source": [
    "\n",
    "# Create a random forest classifier\n",
    "rf1_6 = RandomForestClassifier(n_estimators=200,max_depth=4, random_state=243)\n",
    "rf1_6.fit(X_train, y_train)\n",
    "y_pred1_6 = rf1_6.predict(X_test)\n",
    "y_pred1_6\n",
    "accuracy1_6 = accuracy_score(y_test, y_pred1_6)\n",
    "precision1_6 = precision_score(y_test, y_pred1_6)\n",
    "recall1_6 = recall_score(y_test, y_pred1_6)\n",
    "\n",
    "print(\"Accuracy:\", accuracy1_6)\n",
    "print(\"Precision:\", precision1_6) #gives score of predicting possible tax evasion cases in only postive tax evasion test cases\n",
    "print(\"Recall:\", recall1_6) #gives score of postive tax evasion cases in all tax evasion test cases"
   ]
  },
  {
   "cell_type": "code",
   "execution_count": 23,
   "id": "e41dbe04",
   "metadata": {},
   "outputs": [
    {
     "name": "stdout",
     "output_type": "stream",
     "text": [
      "Epoch 1/4\n",
      "13/13 [==============================] - 1s 17ms/step - loss: 0.5734 - accuracy: 0.6709 - val_loss: 0.5528 - val_accuracy: 0.7262\n",
      "Epoch 2/4\n",
      "13/13 [==============================] - 0s 2ms/step - loss: 0.4710 - accuracy: 0.8061 - val_loss: 0.4905 - val_accuracy: 0.7917\n",
      "Epoch 3/4\n",
      "13/13 [==============================] - 0s 2ms/step - loss: 0.3997 - accuracy: 0.8750 - val_loss: 0.4436 - val_accuracy: 0.8393\n",
      "Epoch 4/4\n",
      "13/13 [==============================] - 0s 2ms/step - loss: 0.3418 - accuracy: 0.8903 - val_loss: 0.4185 - val_accuracy: 0.8452\n",
      "8/8 [==============================] - 0s 712us/step - loss: 0.3075 - accuracy: 0.9125\n",
      "Test accuracy: 0.9125000238418579\n"
     ]
    }
   ],
   "source": [
    "\n",
    "#reshapimg into array\n",
    "#target1 = target.values.reshape(-1, 1) \n",
    "\n",
    "X_train, X_test,y_train, y_test = train_test_split(df_train, target, \n",
    "                                                    test_size = 0.30)\n",
    "\n",
    "\n",
    "\n",
    "# Standardize the features\n",
    "scaler = StandardScaler()\n",
    "X_train1 = scaler.fit_transform(X_train)\n",
    "X_test1 = scaler.transform(X_test)\n",
    "\n",
    "# Convert labels to one-hot encoded vectors (assuming 0 and 1 labels)\n",
    "y_train1 = to_categorical(y_train, num_classes=2)\n",
    "y_test1 = to_categorical(y_test, num_classes=2)\n",
    "\n",
    "\n",
    "# Build the neural network model\n",
    "model = Sequential()\n",
    "model.add(Dense(64, activation='relu'))\n",
    "model.add(Dense(32, activation='relu'))\n",
    "model.add(Dense(2, activation='softmax'))\n",
    "\n",
    "#learning_rate = 0.01\n",
    "#decay = 1e-6\n",
    "#momentum = 0.5\n",
    "\n",
    "# Compile the model\n",
    "model.compile(optimizer=Adam(learning_rate=0.001), loss='categorical_crossentropy', metrics=['accuracy'])\n",
    "\n",
    "# Train the model\n",
    "model.fit(X_train1, y_train1, epochs=4, batch_size=32, validation_split=0.3)\n",
    "\n",
    "# Evaluate the model on the test set\n",
    "test_loss, test_accuracy = model.evaluate(X_test1, y_test1)\n",
    "print(\"Test accuracy:\", test_accuracy)"
   ]
  },
  {
   "cell_type": "code",
   "execution_count": 38,
   "id": "7acc0e49",
   "metadata": {},
   "outputs": [],
   "source": [
    "import pickle"
   ]
  },
  {
   "cell_type": "code",
   "execution_count": 39,
   "id": "a7ac8c30",
   "metadata": {},
   "outputs": [],
   "source": [
    "pkl_filn=\"TE_RF_classifier1.pkl\"\n",
    "with open(pkl_filn,'wb') as file:\n",
    "    pickle.dump(rf1_6,file)"
   ]
  },
  {
   "cell_type": "markdown",
   "id": "07d21ef3",
   "metadata": {},
   "source": [
    "Generated two sample cases and tested for the Tax evasion classification."
   ]
  },
  {
   "cell_type": "code",
   "execution_count": 35,
   "id": "9ec45652",
   "metadata": {},
   "outputs": [
    {
     "data": {
      "text/html": [
       "<div>\n",
       "<style scoped>\n",
       "    .dataframe tbody tr th:only-of-type {\n",
       "        vertical-align: middle;\n",
       "    }\n",
       "\n",
       "    .dataframe tbody tr th {\n",
       "        vertical-align: top;\n",
       "    }\n",
       "\n",
       "    .dataframe thead th {\n",
       "        text-align: right;\n",
       "    }\n",
       "</style>\n",
       "<table border=\"1\" class=\"dataframe\">\n",
       "  <thead>\n",
       "    <tr style=\"text-align: right;\">\n",
       "      <th></th>\n",
       "      <th>comp_id</th>\n",
       "      <th>year</th>\n",
       "      <th>Loss B/W from Previous Period</th>\n",
       "      <th>previous_year_Revenue</th>\n",
       "      <th>client entertainment_50</th>\n",
       "      <th>Fines and penalties</th>\n",
       "      <th>Amounts withdrawn from the Business by a natural person who is a Taxable Person</th>\n",
       "      <th>client entertainment</th>\n",
       "      <th>Staff Costs</th>\n",
       "      <th>IT Cost</th>\n",
       "      <th>Net Interest expenditure</th>\n",
       "      <th>Donations, grants, or gifts</th>\n",
       "      <th>Bribes or other illicit payments</th>\n",
       "      <th>Related Party transaction - Non Deductiable Payment</th>\n",
       "      <th>Revenue</th>\n",
       "      <th>Operating Expenses</th>\n",
       "      <th>Finance and other income</th>\n",
       "      <th>Finance and other cost</th>\n",
       "    </tr>\n",
       "  </thead>\n",
       "  <tbody>\n",
       "    <tr>\n",
       "      <th>0</th>\n",
       "      <td>105</td>\n",
       "      <td>2014</td>\n",
       "      <td>1</td>\n",
       "      <td>758149</td>\n",
       "      <td>1</td>\n",
       "      <td>11704</td>\n",
       "      <td>9143</td>\n",
       "      <td>37518</td>\n",
       "      <td>35886</td>\n",
       "      <td>3700</td>\n",
       "      <td>4629</td>\n",
       "      <td>185388</td>\n",
       "      <td>634102</td>\n",
       "      <td>86465</td>\n",
       "      <td>1588818</td>\n",
       "      <td>66925</td>\n",
       "      <td>71269</td>\n",
       "      <td>42458</td>\n",
       "    </tr>\n",
       "    <tr>\n",
       "      <th>1</th>\n",
       "      <td>208</td>\n",
       "      <td>2018</td>\n",
       "      <td>0</td>\n",
       "      <td>233492</td>\n",
       "      <td>0</td>\n",
       "      <td>7219</td>\n",
       "      <td>7968</td>\n",
       "      <td>61925</td>\n",
       "      <td>9700</td>\n",
       "      <td>7815</td>\n",
       "      <td>4443</td>\n",
       "      <td>5520</td>\n",
       "      <td>167527</td>\n",
       "      <td>41605</td>\n",
       "      <td>5183100</td>\n",
       "      <td>109216</td>\n",
       "      <td>163026</td>\n",
       "      <td>90037</td>\n",
       "    </tr>\n",
       "  </tbody>\n",
       "</table>\n",
       "</div>"
      ],
      "text/plain": [
       "   comp_id  year  Loss B/W from Previous Period  previous_year_Revenue  \\\n",
       "0      105  2014                              1                 758149   \n",
       "1      208  2018                              0                 233492   \n",
       "\n",
       "   client entertainment_50  Fines and penalties  \\\n",
       "0                        1                11704   \n",
       "1                        0                 7219   \n",
       "\n",
       "   Amounts withdrawn from the Business by a natural person who is a Taxable Person  \\\n",
       "0                                               9143                                 \n",
       "1                                               7968                                 \n",
       "\n",
       "   client entertainment  Staff Costs  IT Cost  Net Interest expenditure  \\\n",
       "0                 37518        35886     3700                      4629   \n",
       "1                 61925         9700     7815                      4443   \n",
       "\n",
       "   Donations, grants, or gifts  Bribes or other illicit payments  \\\n",
       "0                       185388                            634102   \n",
       "1                         5520                            167527   \n",
       "\n",
       "   Related Party transaction - Non Deductiable Payment  Revenue  \\\n",
       "0                                              86465    1588818   \n",
       "1                                              41605    5183100   \n",
       "\n",
       "   Operating Expenses  Finance and other income  Finance and other cost  \n",
       "0               66925                     71269                   42458  \n",
       "1              109216                    163026                   90037  "
      ]
     },
     "execution_count": 35,
     "metadata": {},
     "output_type": "execute_result"
    }
   ],
   "source": [
    "\n",
    "size1=2\n",
    "# Generate synthetic data for 5 rows\n",
    "data = {\n",
    "    'comp_id': np.random.randint(100, 999, size=size1),\n",
    "    'year': np.random.randint(1980, 2024, size=size1),\n",
    "    'Loss B/W from Previous Period': np.random.randint(0, 2, size=size1),\n",
    "    'previous_year_Revenue': np.random.randint(10000, 1000000, size=size1),\n",
    "    'client entertainment_50': np.random.randint(0, 2, size=size1),    \n",
    "    'Fines and penalties': np.random.randint(1000, 15000, size=size1),\n",
    "    'Amounts withdrawn from the Business by a natural person who is a Taxable Person': np.random.randint(1000, 15000, size=size1),\n",
    "    'client entertainment': np.random.randint(10000, 80000, size=size1),\n",
    "    'Staff Costs': np.random.randint(8000, 50000, size=size1),\n",
    "    'IT Cost': np.random.randint(1000, 10000, size=size1), \n",
    "    'Net Interest expenditure': np.random.randint(1000, 5000, size=size1),\n",
    "    'Donations, grants, or gifts': np.random.randint(0, 400000, size=size1), \n",
    "    'Bribes or other illicit payments': np.random.randint(0, 1000000, size=size1),  # Binary: 0 or 1\n",
    "    'Related Party transaction - Non Deductiable Payment': np.random.randint(0, 100000, size=size1),\n",
    "    'Revenue': np.random.randint(999, 9999999, size=size1),\n",
    "    'Operating Expenses': np.random.randint(2000, 200000, size=size1),\n",
    "    'Finance and other income': np.random.randint(1000, 200000, size=size1),\n",
    "    'Finance and other cost': np.random.randint(1000, 150000, size=size1),\n",
    "    }\n",
    "\n",
    "test_df = pd.DataFrame(data)\n",
    "\n",
    "# Print the synthetic data\n",
    "test_df.head(2)"
   ]
  },
  {
   "cell_type": "code",
   "execution_count": 41,
   "id": "de32f7e3",
   "metadata": {},
   "outputs": [
    {
     "name": "stdout",
     "output_type": "stream",
     "text": [
      "[1 0]\n"
     ]
    }
   ],
   "source": [
    "y_pred_test = rf1_6.predict(test_df)\n",
    "print(y_pred_test)\n",
    "#accuracy1_6 = accuracy_score(y_test, y_pred1_6)"
   ]
  },
  {
   "cell_type": "markdown",
   "id": "9505e6c3",
   "metadata": {},
   "source": [
    "Some additional features that can be included andimproves the model performance\n",
    "\n",
    "1. state/city\n",
    "2. type of business\n",
    "3. organisational historical tax filing\n",
    "4. Using Language based AI models to analyse financial transactions"
   ]
  },
  {
   "cell_type": "code",
   "execution_count": 40,
   "id": "5f607c53",
   "metadata": {},
   "outputs": [],
   "source": [
    "#pickled_model = pickle.load(open('TE_RF_classifier.pkl', 'rb'))\n",
    "#pickled_model.predict(test_data)"
   ]
  },
  {
   "cell_type": "code",
   "execution_count": null,
   "id": "a2804a63",
   "metadata": {},
   "outputs": [],
   "source": []
  }
 ],
 "metadata": {
  "kernelspec": {
   "display_name": "Python 3",
   "language": "python",
   "name": "python3"
  },
  "language_info": {
   "codemirror_mode": {
    "name": "ipython",
    "version": 3
   },
   "file_extension": ".py",
   "mimetype": "text/x-python",
   "name": "python",
   "nbconvert_exporter": "python",
   "pygments_lexer": "ipython3",
   "version": "3.8.8"
  }
 },
 "nbformat": 4,
 "nbformat_minor": 5
}
